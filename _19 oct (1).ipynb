{
 "cells": [
  {
   "cell_type": "markdown",
   "id": "7c717e8f",
   "metadata": {},
   "source": [
    "# 19 oct 2023--  "
   ]
  },
  {
   "cell_type": "markdown",
   "id": "c93c9c5d",
   "metadata": {},
   "source": [
    " # Document today’s class with proper explanation using markdown, comments, examples and code.\n"
   ]
  },
  {
   "cell_type": "markdown",
   "id": "c0dc708c",
   "metadata": {},
   "source": [
    "## find()"
   ]
  },
  {
   "cell_type": "markdown",
   "id": "772b28c4",
   "metadata": {},
   "source": [
    "###  > find() method is a built-in method in Python that is used with strings to find the first occurrence of a substring within the given string."
   ]
  },
  {
   "cell_type": "markdown",
   "id": "0fe26cbd",
   "metadata": {},
   "source": [
    " ###  > It returns the index of the first occurrence of the substring, or -1 if the substring is not found in the string."
   ]
  },
  {
   "cell_type": "markdown",
   "id": "49b17329",
   "metadata": {},
   "source": [
    " ### example"
   ]
  },
  {
   "cell_type": "code",
   "execution_count": 10,
   "id": "4c093146",
   "metadata": {},
   "outputs": [
    {
     "data": {
      "text/plain": [
       "'Can you can a can as a canner can can a can'"
      ]
     },
     "execution_count": 10,
     "metadata": {},
     "output_type": "execute_result"
    }
   ],
   "source": [
    "tt='''Can you can a can as a canner can can a can'''    #total alphabets are (42)\n",
    "tt\n"
   ]
  },
  {
   "cell_type": "code",
   "execution_count": 11,
   "id": "1d83a3a8",
   "metadata": {},
   "outputs": [
    {
     "data": {
      "text/plain": [
       "1"
      ]
     },
     "execution_count": 11,
     "metadata": {},
     "output_type": "execute_result"
    }
   ],
   "source": [
    "tt.find('a')"
   ]
  },
  {
   "cell_type": "code",
   "execution_count": 14,
   "id": "7a1a0a43",
   "metadata": {},
   "outputs": [
    {
     "data": {
      "text/plain": [
       "12"
      ]
     },
     "execution_count": 14,
     "metadata": {},
     "output_type": "execute_result"
    }
   ],
   "source": [
    "tt.find('a',10)"
   ]
  },
  {
   "cell_type": "code",
   "execution_count": 18,
   "id": "7f9476d7",
   "metadata": {},
   "outputs": [
    {
     "data": {
      "text/plain": [
       "1"
      ]
     },
     "execution_count": 18,
     "metadata": {},
     "output_type": "execute_result"
    }
   ],
   "source": [
    "tt.find('a',0,10)"
   ]
  },
  {
   "cell_type": "markdown",
   "id": "c1ce877e",
   "metadata": {},
   "source": [
    "## count()"
   ]
  },
  {
   "cell_type": "markdown",
   "id": "8b897eac",
   "metadata": {},
   "source": [
    "###  > The count() method is a built-in method in Python used with strings to count the number of non-overlapping occurrences of a substring within the given string."
   ]
  },
  {
   "cell_type": "markdown",
   "id": "8cf591e4",
   "metadata": {},
   "source": [
    "### example\n"
   ]
  },
  {
   "cell_type": "code",
   "execution_count": 19,
   "id": "dd8f4c51",
   "metadata": {},
   "outputs": [
    {
     "data": {
      "text/plain": [
       "6"
      ]
     },
     "execution_count": 19,
     "metadata": {},
     "output_type": "execute_result"
    }
   ],
   "source": [
    "tt.count('can')      # this will count how many times the string was reperted"
   ]
  },
  {
   "cell_type": "markdown",
   "id": "2a1b44d4",
   "metadata": {},
   "source": [
    "## rfind()            right find()"
   ]
  },
  {
   "cell_type": "markdown",
   "id": "4c21275a",
   "metadata": {},
   "source": [
    "###  > but it would search from right to left, starting at the end of the string."
   ]
  },
  {
   "cell_type": "markdown",
   "id": "a38fbfab",
   "metadata": {},
   "source": [
    "###  > it was very use full to find the words"
   ]
  },
  {
   "cell_type": "markdown",
   "id": "7ce6e500",
   "metadata": {},
   "source": [
    "### > method, which returns -1 if the substring is not found."
   ]
  },
  {
   "cell_type": "markdown",
   "id": "cbcfd75a",
   "metadata": {},
   "source": [
    "### Example"
   ]
  },
  {
   "cell_type": "code",
   "execution_count": null,
   "id": "88640ca3",
   "metadata": {},
   "outputs": [],
   "source": [
    "tt='''Can you can a can as a canner can can a can'''\n",
    "tt"
   ]
  },
  {
   "cell_type": "markdown",
   "id": "711e78ea",
   "metadata": {},
   "source": [
    "tt.rfind('as')"
   ]
  },
  {
   "cell_type": "code",
   "execution_count": 22,
   "id": "32eba06b",
   "metadata": {},
   "outputs": [
    {
     "data": {
      "text/plain": [
       "4"
      ]
     },
     "execution_count": 22,
     "metadata": {},
     "output_type": "execute_result"
    }
   ],
   "source": [
    "tt.rfind('you',3,10)"
   ]
  },
  {
   "cell_type": "markdown",
   "id": "244d1c59",
   "metadata": {},
   "source": [
    "## index()"
   ]
  },
  {
   "cell_type": "markdown",
   "id": "41576105",
   "metadata": {},
   "source": [
    "### > index() method is a string method used to find the index (position) of a substring within a string."
   ]
  },
  {
   "cell_type": "markdown",
   "id": "756b139e",
   "metadata": {},
   "source": [
    "### > If the substring is not found within the string, it raises a ValueError exception."
   ]
  },
  {
   "cell_type": "markdown",
   "id": "fff822ac",
   "metadata": {},
   "source": [
    "### Example"
   ]
  },
  {
   "cell_type": "code",
   "execution_count": 23,
   "id": "54e23982",
   "metadata": {},
   "outputs": [
    {
     "data": {
      "text/plain": [
       "'Can you can a can as a canner can can a can'"
      ]
     },
     "execution_count": 23,
     "metadata": {},
     "output_type": "execute_result"
    }
   ],
   "source": [
    "tt='''Can you can a can as a canner can can a can'''  #(total alphabets are (42))\n",
    "tt                                                     "
   ]
  },
  {
   "cell_type": "code",
   "execution_count": 30,
   "id": "a7ac9aa0",
   "metadata": {},
   "outputs": [
    {
     "data": {
      "text/plain": [
       "4"
      ]
     },
     "execution_count": 30,
     "metadata": {},
     "output_type": "execute_result"
    }
   ],
   "source": [
    "tt.index('you')"
   ]
  },
  {
   "cell_type": "markdown",
   "id": "036c041f",
   "metadata": {},
   "source": [
    "### rindex()"
   ]
  },
  {
   "cell_type": "markdown",
   "id": "ffcad97f",
   "metadata": {},
   "source": [
    "### The rindex() method is similar to the index() method in Python's string methods, but it searches for the last (rightmost) occurrence of a specified substring within a string."
   ]
  },
  {
   "cell_type": "markdown",
   "id": "2cc1358b",
   "metadata": {},
   "source": [
    "### > method, which returns -1 if the substring is not found."
   ]
  },
  {
   "cell_type": "markdown",
   "id": "425a4f83",
   "metadata": {},
   "source": [
    "### Example"
   ]
  },
  {
   "cell_type": "code",
   "execution_count": 24,
   "id": "5063e86f",
   "metadata": {},
   "outputs": [
    {
     "data": {
      "text/plain": [
       "4"
      ]
     },
     "execution_count": 24,
     "metadata": {},
     "output_type": "execute_result"
    }
   ],
   "source": [
    "tt.rindex('you')"
   ]
  },
  {
   "cell_type": "code",
   "execution_count": 27,
   "id": "a25d386c",
   "metadata": {},
   "outputs": [
    {
     "data": {
      "text/plain": [
       "41"
      ]
     },
     "execution_count": 27,
     "metadata": {},
     "output_type": "execute_result"
    }
   ],
   "source": [
    "tt.rindex('a',40)                                   #(that was showed from right side)"
   ]
  },
  {
   "cell_type": "markdown",
   "id": "4f93ecec",
   "metadata": {},
   "source": [
    "## replace()"
   ]
  },
  {
   "cell_type": "markdown",
   "id": "1482afef",
   "metadata": {},
   "source": [
    " ### > old (required): The substring you want to replace.\n",
    "###  > new (required): The substring that will replace the old substring."
   ]
  },
  {
   "cell_type": "markdown",
   "id": "b3e4cbac",
   "metadata": {},
   "source": [
    "### example"
   ]
  },
  {
   "cell_type": "code",
   "execution_count": 31,
   "id": "435b6a06",
   "metadata": {},
   "outputs": [
    {
     "data": {
      "text/plain": [
       "'Can you can a can as a canner can can a can'"
      ]
     },
     "execution_count": 31,
     "metadata": {},
     "output_type": "execute_result"
    }
   ],
   "source": [
    "tt='''Can you can a can as a canner can can a can'''\n",
    "tt"
   ]
  },
  {
   "cell_type": "code",
   "execution_count": 11,
   "id": "7355c7d9",
   "metadata": {},
   "outputs": [
    {
     "ename": "SyntaxError",
     "evalue": "invalid syntax (2017611925.py, line 1)",
     "output_type": "error",
     "traceback": [
      "\u001b[1;36m  Cell \u001b[1;32mIn[11], line 1\u001b[1;36m\u001b[0m\n\u001b[1;33m    tt.(str.replace)\u001b[0m\n\u001b[1;37m       ^\u001b[0m\n\u001b[1;31mSyntaxError\u001b[0m\u001b[1;31m:\u001b[0m invalid syntax\n"
     ]
    }
   ],
   "source": [
    "tt.(str.replace)"
   ]
  },
  {
   "cell_type": "markdown",
   "id": "d9b6955c",
   "metadata": {},
   "source": [
    "## split"
   ]
  },
  {
   "cell_type": "markdown",
   "id": "4a6c036e",
   "metadata": {},
   "source": [
    "### The split() method is a string method in Python that is used to split a string into a list of substrings based on a specified delimiter (a character or substring). "
   ]
  },
  {
   "cell_type": "code",
   "execution_count": 34,
   "id": "b4114876",
   "metadata": {},
   "outputs": [
    {
     "data": {
      "text/plain": [
       "['Can',\n",
       " 'you',\n",
       " 'can',\n",
       " 'a',\n",
       " 'can',\n",
       " 'as',\n",
       " 'a',\n",
       " 'canner',\n",
       " 'can',\n",
       " 'can',\n",
       " 'a',\n",
       " 'can']"
      ]
     },
     "execution_count": 34,
     "metadata": {},
     "output_type": "execute_result"
    }
   ],
   "source": [
    "tt.split()"
   ]
  },
  {
   "cell_type": "code",
   "execution_count": 36,
   "id": "53c90fa4",
   "metadata": {},
   "outputs": [],
   "source": [
    "b=tt.split\n"
   ]
  },
  {
   "cell_type": "code",
   "execution_count": 37,
   "id": "8e6d2d59",
   "metadata": {},
   "outputs": [
    {
     "name": "stdout",
     "output_type": "stream",
     "text": [
      "No Python documentation found for 'you'.\n",
      "Use help() to get the interactive help utility.\n",
      "Use help(str) for help on the str class.\n",
      "\n"
     ]
    }
   ],
   "source": [
    "b = tt\n",
    "help('you')"
   ]
  },
  {
   "cell_type": "code",
   "execution_count": 40,
   "id": "53fb89ad",
   "metadata": {},
   "outputs": [
    {
     "data": {
      "text/plain": [
       "['Can', 'you', 'can', 'a can as a canner can can a can']"
      ]
     },
     "execution_count": 40,
     "metadata": {},
     "output_type": "execute_result"
    }
   ],
   "source": [
    "tt.split( ' ',maxsplit=3)"
   ]
  },
  {
   "cell_type": "markdown",
   "id": "603437e2",
   "metadata": {},
   "source": [
    "### rsplit()"
   ]
  },
  {
   "cell_type": "code",
   "execution_count": 48,
   "id": "4914d217",
   "metadata": {},
   "outputs": [
    {
     "data": {
      "text/plain": [
       "['Can ', ' can a can as a canner can can a can']"
      ]
     },
     "execution_count": 48,
     "metadata": {},
     "output_type": "execute_result"
    }
   ],
   "source": [
    "tt.rsplit('you')              # (Can you can a can as a canner can can a can)"
   ]
  },
  {
   "cell_type": "markdown",
   "id": "f309b419",
   "metadata": {},
   "source": [
    "###  > maxsplit (): This is an integer that specifies the maximum number of splits to perform. If not specified, there is no limit on the number of splits."
   ]
  },
  {
   "cell_type": "code",
   "execution_count": 43,
   "id": "7c5bb312",
   "metadata": {},
   "outputs": [
    {
     "data": {
      "text/plain": [
       "['Can you can a can as a canner can can', 'a', 'can']"
      ]
     },
     "execution_count": 43,
     "metadata": {},
     "output_type": "execute_result"
    }
   ],
   "source": [
    "tt.rsplit(maxsplit=2)"
   ]
  },
  {
   "cell_type": "markdown",
   "id": "3d88c957",
   "metadata": {},
   "source": [
    "## partition() , rpartition"
   ]
  },
  {
   "cell_type": "markdown",
   "id": "31d75919",
   "metadata": {},
   "source": [
    "### > The 'partition()' method is a string method in Python used to split a string into three parts based on the first occurrence of a specified separator. It returns a tuple containing three elements:"
   ]
  },
  {
   "cell_type": "markdown",
   "id": "fb85e165",
   "metadata": {},
   "source": [
    " ###   1.The part of the string before the separator."
   ]
  },
  {
   "cell_type": "markdown",
   "id": "f290d4ad",
   "metadata": {},
   "source": [
    "### 2.The separator itself."
   ]
  },
  {
   "cell_type": "markdown",
   "id": "31a42ed6",
   "metadata": {},
   "source": [
    "### The part of the string after the separator."
   ]
  },
  {
   "cell_type": "markdown",
   "id": "fdfb5d14",
   "metadata": {},
   "source": [
    "### Example"
   ]
  },
  {
   "cell_type": "code",
   "execution_count": 49,
   "id": "c8fdeea8",
   "metadata": {},
   "outputs": [],
   "source": [
    "m=\"malayalam\"\n",
    "print=(m)                   #that divided into three parts(partition)\n"
   ]
  },
  {
   "cell_type": "code",
   "execution_count": 50,
   "id": "847071a0",
   "metadata": {},
   "outputs": [
    {
     "data": {
      "text/plain": [
       "('Can', ' ', 'you can a can as a canner can can a can')"
      ]
     },
     "execution_count": 50,
     "metadata": {},
     "output_type": "execute_result"
    }
   ],
   "source": [
    "tt.partition(' ')"
   ]
  },
  {
   "cell_type": "code",
   "execution_count": 54,
   "id": "d8b8d462",
   "metadata": {},
   "outputs": [
    {
     "data": {
      "text/plain": [
       "['m', 'l', 'y', 'l', 'm']"
      ]
     },
     "execution_count": 54,
     "metadata": {},
     "output_type": "execute_result"
    }
   ],
   "source": [
    "m=\"malayalam\"\n",
    "m.split('a')                            # that removing \"a\" in the word"
   ]
  },
  {
   "cell_type": "code",
   "execution_count": 58,
   "id": "793b03bc",
   "metadata": {},
   "outputs": [
    {
     "data": {
      "text/plain": [
       "('mala', 'y', 'alam')"
      ]
     },
     "execution_count": 58,
     "metadata": {},
     "output_type": "execute_result"
    }
   ],
   "source": [
    "m.partition('y')              # that will show seperately that means (upto 'y' one token 'y' one token and remaining one token)"
   ]
  },
  {
   "cell_type": "code",
   "execution_count": 59,
   "id": "7e0a8cad",
   "metadata": {},
   "outputs": [
    {
     "data": {
      "text/plain": [
       "('Can you can a can as a ', 'canner', ' can can a can')"
      ]
     },
     "execution_count": 59,
     "metadata": {},
     "output_type": "execute_result"
    }
   ],
   "source": [
    "tt.partition('canner')                    # it is example to partition that show seperately "
   ]
  },
  {
   "cell_type": "markdown",
   "id": "34d26351",
   "metadata": {},
   "source": [
    "## splitlines"
   ]
  },
  {
   "cell_type": "markdown",
   "id": "4a920570",
   "metadata": {},
   "source": [
    "###  1. The splitlines() method is a string method in Python that is used to split a string into a list of lines based on line breaks or newline characters. "
   ]
  },
  {
   "cell_type": "markdown",
   "id": "922e8e17",
   "metadata": {},
   "source": [
    "### 2. It's particularly useful for breaking a multi-line string into individual lines, making it easier to work with text data that contains multiple lines."
   ]
  },
  {
   "cell_type": "markdown",
   "id": "73733316",
   "metadata": {},
   "source": [
    "### Example"
   ]
  },
  {
   "cell_type": "code",
   "execution_count": 60,
   "id": "05130434",
   "metadata": {},
   "outputs": [
    {
     "data": {
      "text/plain": [
       "['Can you can a can as a canner can can a can']"
      ]
     },
     "execution_count": 60,
     "metadata": {},
     "output_type": "execute_result"
    }
   ],
   "source": [
    "tt.splitlines()   #example 1"
   ]
  },
  {
   "cell_type": "code",
   "execution_count": 65,
   "id": "94736144",
   "metadata": {},
   "outputs": [
    {
     "data": {
      "text/plain": [
       "['malayalam']"
      ]
     },
     "execution_count": 65,
     "metadata": {},
     "output_type": "execute_result"
    }
   ],
   "source": [
    "m.split('\\n')     #example 2"
   ]
  },
  {
   "cell_type": "markdown",
   "id": "3cc9dc52",
   "metadata": {},
   "source": [
    " ## 2. Use help() to understand each parameter of all the string methods that were covered in class so far. Document the same with different examples with proper explanation of what the method does and its parameters.\n"
   ]
  },
  {
   "cell_type": "markdown",
   "id": "58bb3220",
   "metadata": {},
   "source": [
    " ## > To get detailed help on these methods, you can use the help() function in Python. Here's how you can use help() for each method:"
   ]
  },
  {
   "cell_type": "markdown",
   "id": "d494cea9",
   "metadata": {},
   "source": [
    "## split() method by using help()"
   ]
  },
  {
   "cell_type": "code",
   "execution_count": 5,
   "id": "6e41c47c",
   "metadata": {},
   "outputs": [
    {
     "data": {
      "text/plain": [
       "'Can you can a can as a canner can can a can'"
      ]
     },
     "execution_count": 5,
     "metadata": {},
     "output_type": "execute_result"
    }
   ],
   "source": [
    "tt='Can you can a can as a canner can can a can'\n",
    "tt"
   ]
  },
  {
   "cell_type": "markdown",
   "id": "d3930193",
   "metadata": {},
   "source": [
    "### This will display detailed information about the split() method, including its parameters and usage."
   ]
  },
  {
   "cell_type": "markdown",
   "id": "73252e33",
   "metadata": {},
   "source": [
    "## rsplit() method"
   ]
  },
  {
   "cell_type": "code",
   "execution_count": 9,
   "id": "012d150f",
   "metadata": {},
   "outputs": [
    {
     "name": "stdout",
     "output_type": "stream",
     "text": [
      "Help on built-in function rsplit:\n",
      "\n",
      "rsplit(sep=None, maxsplit=-1) method of builtins.str instance\n",
      "    Return a list of the substrings in the string, using sep as the separator string.\n",
      "    \n",
      "      sep\n",
      "        The separator used to split the string.\n",
      "    \n",
      "        When set to None (the default value), will split on any whitespace\n",
      "        character (including \\\\n \\\\r \\\\t \\\\f and spaces) and will discard\n",
      "        empty strings from the result.\n",
      "      maxsplit\n",
      "        Maximum number of splits (starting from the left).\n",
      "        -1 (the default value) means no limit.\n",
      "    \n",
      "    Splitting starts at the end of the string and works to the front.\n",
      "\n"
     ]
    }
   ],
   "source": [
    "help(tt.rsplit)"
   ]
  },
  {
   "cell_type": "markdown",
   "id": "353611cd",
   "metadata": {},
   "source": [
    "## replace() method witn help()"
   ]
  },
  {
   "cell_type": "code",
   "execution_count": 12,
   "id": "094ecc11",
   "metadata": {},
   "outputs": [
    {
     "name": "stdout",
     "output_type": "stream",
     "text": [
      "Help on built-in function replace:\n",
      "\n",
      "replace(old, new, count=-1, /) method of builtins.str instance\n",
      "    Return a copy with all occurrences of substring old replaced by new.\n",
      "    \n",
      "      count\n",
      "        Maximum number of occurrences to replace.\n",
      "        -1 (the default value) means replace all occurrences.\n",
      "    \n",
      "    If the optional argument count is given, only the first count occurrences are\n",
      "    replaced.\n",
      "\n"
     ]
    }
   ],
   "source": [
    "help(tt.replace)"
   ]
  },
  {
   "cell_type": "markdown",
   "id": "664ae8bb",
   "metadata": {},
   "source": [
    "## index() method with help()"
   ]
  },
  {
   "cell_type": "code",
   "execution_count": 13,
   "id": "bcb2d13a",
   "metadata": {},
   "outputs": [
    {
     "name": "stdout",
     "output_type": "stream",
     "text": [
      "Help on built-in function index:\n",
      "\n",
      "index(...) method of builtins.str instance\n",
      "    S.index(sub[, start[, end]]) -> int\n",
      "    \n",
      "    Return the lowest index in S where substring sub is found,\n",
      "    such that sub is contained within S[start:end].  Optional\n",
      "    arguments start and end are interpreted as in slice notation.\n",
      "    \n",
      "    Raises ValueError when the substring is not found.\n",
      "\n"
     ]
    }
   ],
   "source": [
    "help(tt.index)"
   ]
  },
  {
   "cell_type": "markdown",
   "id": "c2e89e26",
   "metadata": {},
   "source": [
    "### splitlines method with help()"
   ]
  },
  {
   "cell_type": "code",
   "execution_count": 14,
   "id": "725f8e8c",
   "metadata": {},
   "outputs": [
    {
     "name": "stdout",
     "output_type": "stream",
     "text": [
      "Help on built-in function splitlines:\n",
      "\n",
      "splitlines(keepends=False) method of builtins.str instance\n",
      "    Return a list of the lines in the string, breaking at line boundaries.\n",
      "    \n",
      "    Line breaks are not included in the resulting list unless keepends is given and\n",
      "    true.\n",
      "\n"
     ]
    }
   ],
   "source": [
    "help(tt.splitlines)"
   ]
  },
  {
   "cell_type": "markdown",
   "id": "b755f8b7",
   "metadata": {},
   "source": [
    "## partitions() method with help()"
   ]
  },
  {
   "cell_type": "code",
   "execution_count": 16,
   "id": "2a305582",
   "metadata": {},
   "outputs": [
    {
     "name": "stdout",
     "output_type": "stream",
     "text": [
      "Help on built-in function partition:\n",
      "\n",
      "partition(sep, /) method of builtins.str instance\n",
      "    Partition the string into three parts using the given separator.\n",
      "    \n",
      "    This will search for the separator in the string.  If the separator is found,\n",
      "    returns a 3-tuple containing the part before the separator, the separator\n",
      "    itself, and the part after it.\n",
      "    \n",
      "    If the separator is not found, returns a 3-tuple containing the original string\n",
      "    and two empty strings.\n",
      "\n"
     ]
    }
   ],
   "source": [
    "help(tt.partition)"
   ]
  },
  {
   "cell_type": "markdown",
   "id": "f2d79a00",
   "metadata": {},
   "source": [
    "## find() method with help()"
   ]
  },
  {
   "cell_type": "code",
   "execution_count": 17,
   "id": "516041ef",
   "metadata": {},
   "outputs": [
    {
     "name": "stdout",
     "output_type": "stream",
     "text": [
      "Help on built-in function find:\n",
      "\n",
      "find(...) method of builtins.str instance\n",
      "    S.find(sub[, start[, end]]) -> int\n",
      "    \n",
      "    Return the lowest index in S where substring sub is found,\n",
      "    such that sub is contained within S[start:end].  Optional\n",
      "    arguments start and end are interpreted as in slice notation.\n",
      "    \n",
      "    Return -1 on failure.\n",
      "\n"
     ]
    }
   ],
   "source": [
    "help(tt.find)"
   ]
  }
 ],
 "metadata": {
  "kernelspec": {
   "display_name": "Python 3 (ipykernel)",
   "language": "python",
   "name": "python3"
  },
  "language_info": {
   "codemirror_mode": {
    "name": "ipython",
    "version": 3
   },
   "file_extension": ".py",
   "mimetype": "text/x-python",
   "name": "python",
   "nbconvert_exporter": "python",
   "pygments_lexer": "ipython3",
   "version": "3.11.5"
  }
 },
 "nbformat": 4,
 "nbformat_minor": 5
}
